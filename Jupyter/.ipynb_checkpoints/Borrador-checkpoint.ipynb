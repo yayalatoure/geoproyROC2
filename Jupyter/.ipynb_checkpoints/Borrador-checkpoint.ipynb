{
 "cells": [
  {
   "cell_type": "code",
   "execution_count": 1,
   "metadata": {},
   "outputs": [],
   "source": [
    "import numpy as np\n",
    "%matplotlib inline\n",
    "import matplotlib.pyplot as plt\n",
    "plt.style.use('seaborn-whitegrid')"
   ]
  },
  {
   "cell_type": "code",
   "execution_count": 6,
   "metadata": {},
   "outputs": [],
   "source": [
    "#Zone1\n",
    "percentInit1 = 30.0;\n",
    "percentFin1 = 0.0;\n",
    "yMin1 = 50;\n",
    "yMax1 = 300;\n",
    "\n",
    "slope1 = (percentFin1-percentInit1)/(yMax1-yMin1)\n",
    "intercept1 = percentInit1 - yMin1*slope1\n",
    "\n",
    "#Zone2\n",
    "percentInit2 = 75.0;\n",
    "percentFin2 = percentInit1;\n",
    "yMin2 = -100.0;\n",
    "yMax2 = 50.0;\n",
    "\n",
    "slope2 = (percentFin2-percentInit2)/(yMax2-yMin2)\n",
    "intercept2 = percentInit2 - slope2*yMin2\n",
    "\n",
    "#Zone3\n",
    "percentInit3 = 80;\n",
    "percentFin3 = percentInit2;\n",
    "yMin3 = -300.0;\n",
    "yMax3 = -100.0;\n",
    "\n",
    "slope3 = (percentFin3-percentInit3)/(yMax3-yMin3)\n",
    "intercept3 = percentInit3 - slope3*yMin3"
   ]
  },
  {
   "cell_type": "code",
   "execution_count": 7,
   "metadata": {},
   "outputs": [
    {
     "data": {
      "image/png": "[encoded data removed]",
      "text/plain": [
       "<Figure size 432x288 with 1 Axes>"
      ]
     },
     "metadata": {},
     "output_type": "display_data"
    }
   ],
   "source": [
    "fig = plt.figure()\n",
    "ax = plt.axes()\n",
    "\n",
    "y1 = np.linspace(50, 300, 250) \n",
    "y2 = np.linspace(-100, 50, 150)\n",
    "y3 = np.linspace(-300, -100, 200) \n",
    "\n",
    "p1 = slope1*y1 + intercept1\n",
    "p2 = slope2*y2 + intercept2\n",
    "p3 = slope3*y3 + intercept3\n",
    "\n",
    "ax.plot(y1, p1, color='r');\n",
    "ax.plot(y2, p2, color='b');\n",
    "ax.plot(y3, p3, color='g');"
   ]
  },
  {
   "cell_type": "code",
   "execution_count": null,
   "metadata": {},
   "outputs": [],
   "source": []
  }
 ],
 "metadata": {
  "kernelspec": {
   "display_name": "Python 2",
   "language": "python",
   "name": "python2"
  },
  "language_info": {
   "codemirror_mode": {
    "name": "ipython",
    "version": 2
   },
   "file_extension": ".py",
   "mimetype": "text/x-python",
   "name": "python",
   "nbconvert_exporter": "python",
   "pygments_lexer": "ipython2",
   "version": "2.7.15"
  }
 },
 "nbformat": 4,
 "nbformat_minor": 2
}
